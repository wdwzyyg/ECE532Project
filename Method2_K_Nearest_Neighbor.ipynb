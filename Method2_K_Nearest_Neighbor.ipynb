{
  "nbformat": 4,
  "nbformat_minor": 0,
  "metadata": {
    "colab": {
      "name": "Method2: K-Nearest Neighbor",
      "provenance": [],
      "machine_shape": "hm",
      "mount_file_id": "1n4ltEfjOmLIEpdrVvxij5hJqNIKfiqPh",
      "authorship_tag": "ABX9TyPwbIMInQfwDms0rhY4WA6D",
      "include_colab_link": true
    },
    "kernelspec": {
      "name": "python3",
      "display_name": "Python 3"
    },
    "accelerator": "GPU"
  },
  "cells": [
    {
      "cell_type": "markdown",
      "metadata": {
        "id": "view-in-github",
        "colab_type": "text"
      },
      "source": [
        "<a href=\"https://colab.research.google.com/github/wdwzyyg/ECE532Project/blob/main/Method2_K_Nearest_Neighbor.ipynb\" target=\"_parent\"><img src=\"https://colab.research.google.com/assets/colab-badge.svg\" alt=\"Open In Colab\"/></a>"
      ]
    },
    {
      "cell_type": "code",
      "metadata": {
        "colab": {
          "base_uri": "https://localhost:8080/",
          "height": 35
        },
        "id": "R0P5SKLN6ir4",
        "outputId": "23a02747-62f3-483b-a491-7be449344f35"
      },
      "source": [
        "import os\r\n",
        "import sys\r\n",
        "import matplotlib.pyplot as plt\r\n",
        "from PIL import Image\r\n",
        "import tensorflow as tf\r\n",
        "import numpy as np\r\n",
        "import scipy.io as sio\r\n",
        "\r\n",
        "import time\r\n",
        "from google.colab import output\r\n",
        "\r\n",
        "from sklearn.neighbors import KNeighborsClassifier\r\n",
        "from sklearn.model_selection import cross_val_score\r\n",
        "from sklearn.metrics import classification_report\r\n",
        "from sklearn.metrics import confusion_matrix\r\n",
        "from sklearn.metrics import accuracy_score\r\n",
        "import pickle\r\n",
        "tf.test.gpu_device_name()"
      ],
      "execution_count": 1,
      "outputs": [
        {
          "output_type": "execute_result",
          "data": {
            "application/vnd.google.colaboratory.intrinsic+json": {
              "type": "string"
            },
            "text/plain": [
              "'/device:GPU:0'"
            ]
          },
          "metadata": {
            "tags": []
          },
          "execution_count": 1
        }
      ]
    },
    {
      "cell_type": "code",
      "metadata": {
        "id": "Tkt5y6jp6pbg"
      },
      "source": [
        "feature = np.load('/content/drive/MyDrive/ECE532/Project/Featurization Result/features_Xception.npy')\r\n",
        "flattened_features = feature.reshape(*feature.shape[0:1],-1, *feature.shape[3:4]) # -1 means the unknown new axis\r\n",
        "\r\n",
        "# the SVM function cross_val_score need imput <= 2 dimention, so flat all the features for each sample. \r\n",
        "feature_2D = feature.reshape( *feature.shape[0:1],-1)\r\n",
        "labels = np.asarray(np.load('/content/drive/MyDrive/ECE532/Project/Featurization Result/raw_y_train.npy'))"
      ],
      "execution_count": 2,
      "outputs": []
    },
    {
      "cell_type": "markdown",
      "metadata": {
        "id": "q4SWzRHo6To0"
      },
      "source": [
        "weights: 'uniform' or 'distance'"
      ]
    },
    {
      "cell_type": "code",
      "metadata": {
        "colab": {
          "base_uri": "https://localhost:8080/"
        },
        "id": "_uYSD5UEuqcG",
        "outputId": "81212472-a981-44d6-cdad-d746c2b69ac3"
      },
      "source": [
        "neighbors = [1,3,5,7,9,11,13,15,17,19,21]\r\n",
        "cv_score = []\r\n",
        "for k in neighbors:\r\n",
        "    model_knn = KNeighborsClassifier(n_neighbors = k)\r\n",
        "    scores = cross_val_score(model_knn, feature_2D, \r\n",
        "                             labels, cv=5, scoring='accuracy')\r\n",
        "    cv_score.append(scores.mean())\r\n",
        "    print(\"Done: K = \",k)\r\n",
        "print(cv_score)"
      ],
      "execution_count": 4,
      "outputs": [
        {
          "output_type": "stream",
          "text": [
            "Done: K =  1\n",
            "Done: K =  3\n",
            "Done: K =  5\n",
            "Done: K =  7\n",
            "Done: K =  9\n",
            "Done: K =  11\n",
            "Done: K =  13\n",
            "Done: K =  15\n",
            "Done: K =  17\n",
            "Done: K =  19\n",
            "Done: K =  21\n",
            "[0.39828333427140206, 0.4411887206619013, 0.4411887206619013, 0.4571190033958087, 0.46630644828427237, 0.4669330781786458, 0.47919738841672765, 0.47186356728766815, 0.47981838989887626, 0.4822705014915292, 0.4798146376240596]\n"
          ],
          "name": "stdout"
        }
      ]
    },
    {
      "cell_type": "code",
      "metadata": {
        "colab": {
          "base_uri": "https://localhost:8080/"
        },
        "id": "OmH_oprsS7iY",
        "outputId": "d6372b40-a92a-41a3-c22d-896945c824c4"
      },
      "source": [
        "neighbors = [22,23,25,27]\r\n",
        "cv_score_2 = []\r\n",
        "for k in neighbors:\r\n",
        "    model_knn = KNeighborsClassifier(n_neighbors = k)\r\n",
        "    scores = cross_vawe l_score(model_knn, feature_2D, \r\n",
        "                             labels, cv=5, scoring='accuracy')\r\n",
        "    cv_score_2.append(scores.mean())\r\n",
        "    print(\"Done: K = \",k)\r\n",
        "print(cv_score_2)\r\n"
      ],
      "execution_count": 6,
      "outputs": [
        {
          "output_type": "stream",
          "text": [
            "Done: K =  22\n",
            "Done: K =  23\n",
            "Done: K =  25\n",
            "Done: K =  27\n",
            "[0.4761467889908257, 0.477983527513555, 0.48103037466464044, 0.4847076039849158]\n"
          ],
          "name": "stdout"
        }
      ]
    },
    {
      "cell_type": "code",
      "metadata": {
        "colab": {
          "base_uri": "https://localhost:8080/",
          "height": 312
        },
        "id": "8mR2czEBv8hF",
        "outputId": "ad833cf9-f454-469b-eef4-be8b8ae63295"
      },
      "source": [
        "c = [0.39828333427140206, 0.4411887206619013, 0.4411887206619013, 0.4571190033958087, \r\n",
        "     0.46630644828427237, 0.4669330781786458, 0.47919738841672765, 0.47186356728766815, \r\n",
        "     0.47981838989887626, 0.4822705014915292, 0.4798146376240596,0.4761467889908257, \r\n",
        "     0.477983527513555, 0.48103037466464044, 0.4847076039849158]\r\n",
        "neighbors = [1,3,5,7,9,11,13,15,17,19,21,22,23,25,27]\r\n",
        "plt.plot(neighbors, c)\r\n",
        "plt.xlabel('number of neighbors')\r\n",
        "plt.ylabel('cv score')\r\n",
        "plt.title('KNN cv score plot')\r\n",
        "optimal_k = neighbors[c.index(min(c))]\r\n",
        "optimal_k"
      ],
      "execution_count": 10,
      "outputs": [
        {
          "output_type": "execute_result",
          "data": {
            "text/plain": [
              "1"
            ]
          },
          "metadata": {
            "tags": []
          },
          "execution_count": 10
        },
        {
          "output_type": "display_data",
          "data": {
            "image/png": "[encoded data removed]",
            "text/plain": [
              "<Figure size 432x288 with 1 Axes>"
            ]
          },
          "metadata": {
            "tags": [],
            "needs_background": "light"
          }
        }
      ]
    },
    {
      "cell_type": "code",
      "metadata": {
        "id": "0Nr4AiefwAPe"
      },
      "source": [
        "# fit model and get accuracy score using optimum k. \r\n",
        "neighbors = optimal_k\r\n",
        "model_knn = KNeighborsClassifier(n_neighbors = neighbors)\r\n",
        "model_knn.fit(X_trainFlat, Y_train)\r\n",
        "pred = model_knn.predict(X_testFlat)\r\n",
        "print(metrics.accuracy_score(Y_test, pred))"
      ],
      "execution_count": null,
      "outputs": []
    }
  ]
}