{
  "nbformat": 4,
  "nbformat_minor": 0,
  "metadata": {
    "colab": {
      "name": "Method3: Neural Network",
      "provenance": [],
      "toc_visible": true,
      "mount_file_id": "1AI2g1bj5Ivr_wU-WLiwSBTsRzcEznWst",
      "authorship_tag": "ABX9TyMKLGqyracEPoYoyn7hBPZ0",
      "include_colab_link": true
    },
    "kernelspec": {
      "name": "python3",
      "display_name": "Python 3"
    },
    "accelerator": "TPU"
  },
  "cells": [
    {
      "cell_type": "markdown",
      "metadata": {
        "id": "view-in-github",
        "colab_type": "text"
      },
      "source": [
        "<a href=\"https://colab.research.google.com/github/wdwzyyg/ECE532Project/blob/main/Method3_Neural_Network.ipynb\" target=\"_parent\"><img src=\"https://colab.research.google.com/assets/colab-badge.svg\" alt=\"Open In Colab\"/></a>"
      ]
    },
    {
      "cell_type": "code",
      "metadata": {
        "id": "WSOc5HY0aGJu"
      },
      "source": [
        "import numpy as np\r\n",
        "import h5py\r\n",
        "import os\r\n",
        "from PIL import Image\r\n",
        "from sklearn.model_selection import train_test_split\r\n",
        "from sklearn.utils import shuffle\r\n",
        "import matplotlib\r\n",
        "import matplotlib.pyplot as plt\r\n",
        "from keras.utils.np_utils import to_categorical"
      ],
      "execution_count": null,
      "outputs": []
    },
    {
      "cell_type": "code",
      "metadata": {
        "colab": {
          "base_uri": "https://localhost:8080/"
        },
        "id": "am3t8ONpLL3x",
        "outputId": "ff217360-4cb0-4a26-c36e-2899a785682a"
      },
      "source": [
        "input_base = '/content/drive/MyDrive/ECE532/Project/Input/'\r\n",
        "input_sub_folder = ['Food/','People/','Scenery/']    \r\n",
        "result_path =  '/content/drive/MyDrive/ECE532/Project/Featurization Result/'\r\n",
        "\r\n",
        "x_train_list = []\r\n",
        "y_train_list = []\r\n",
        "\r\n",
        "for current_folder in input_sub_folder:\r\n",
        "\r\n",
        "  input_folder = input_base + current_folder\r\n",
        "\r\n",
        "  for image in os.listdir(input_folder):\r\n",
        "    if (current_folder == 'Food/'):\r\n",
        "      label = 0\r\n",
        "    else:\r\n",
        "      if (current_folder == 'People/'):\r\n",
        "        label = 1\r\n",
        "      else:\r\n",
        "        label = 2\r\n",
        "\r\n",
        "    img = Image.open(input_folder + image)\r\n",
        "    img = np.asarray(img,dtype=np.float64)[:,:,0]\r\n",
        "    img_size = img.shape[0]\r\n",
        "    sx, sy = img.shape[0], img.shape[1]\r\n",
        "    new_channel = np.zeros((img_size, img_size))\r\n",
        "    #img_stack = np.dstack((img, new_channel, new_channel)) # add channel axis\r\n",
        "    #x_train_list.append(img_stack)\r\n",
        "    x_train_list.append(img)\r\n",
        "    y_train_list.append(label)\r\n",
        "\r\n",
        "nb_train_samples = len(x_train_list)\r\n",
        "print('Image loaded')\r\n",
        "print('input shape: ')\r\n",
        "print(sx, sy)\r\n",
        "print('training number: ')\r\n",
        "print(nb_train_samples)\r\n",
        "x_train = np.asarray(x_train_list) # turn the list into array\r\n",
        "y_train = to_categorical(y_train_list, num_classes=3) # turn into label vectors"
      ],
      "execution_count": null,
      "outputs": [
        {
          "output_type": "stream",
          "text": [
            "Image loaded\n",
            "input shape: \n",
            "100 100\n",
            "training number: \n",
            "1632\n"
          ],
          "name": "stdout"
        }
      ]
    },
    {
      "cell_type": "code",
      "metadata": {
        "colab": {
          "base_uri": "https://localhost:8080/",
          "height": 1000
        },
        "id": "hexIZ2cVYCsj",
        "outputId": "574e13d6-b85c-4cbe-e36a-87257601ac77"
      },
      "source": [
        "weights = []\r\n",
        "bias = []\r\n",
        "layers_config = [10000, 500, 3]  #  to be determined\r\n",
        "average_weights = []\r\n",
        "average_bias = []\r\n",
        "eta = 0.01                      # step?\r\n",
        "epoch_accuracy = []\r\n",
        "\r\n",
        "initialize_weights()\r\n",
        "\r\n",
        "\r\n",
        "test_size = 0.2\r\n",
        "(trainData, testData, trainLabels, testLabels) = train_test_split(x_train, y_train, test_size=test_size)\r\n",
        "print (\"Splitted train and test data...\")\r\n",
        "print (\"Train data  : {}\".format(trainData.shape))\r\n",
        "print (\"Test data   : {}\".format(testData.shape))\r\n",
        "print (\"Train labels: {}\".format(trainLabels.shape))\r\n",
        "print (\"Test labels : {}\".format(testLabels.shape))\r\n",
        "\r\n",
        "\r\n",
        "epoch_size = 50 ####\r\n",
        "batch_size = 32 ####\r\n",
        "batch_numbers = int(len(trainData)/batch_size)\r\n",
        "\r\n",
        "#Single Sample Updates\r\n",
        "shuffle_order = np.random.permutation(len(trainData))\r\n",
        "for i in range(1, epoch_size + 1):\r\n",
        "    print(\"Running Epoch {}\".format(i))\r\n",
        "    if i == 2:\r\n",
        "        eta = eta/2\r\n",
        "    if i == 3:\r\n",
        "        eta = eta/2\r\n",
        "    shuffle_order = np.random.permutation(len(trainData))\r\n",
        "    for j in range(batch_numbers):\r\n",
        "        for k in range(batch_size):\r\n",
        "            shuffle_index = j * batch_size + k\r\n",
        "            sample_x = trainData[shuffle_index,:]\r\n",
        "            sample_y = trainLabels[shuffle_index, :]\r\n",
        "            a_values = feedforward(sample_x)\r\n",
        "            backprop(a_values, sample_y)\r\n",
        "        for a in range(len(weights)):\r\n",
        "            value_weight = weights[a]\r\n",
        "            value_average_weight = np.multiply(average_weights[a], (eta/batch_size))\r\n",
        "            weights[a] = np.subtract(value_weight, value_average_weight)\r\n",
        "            value_bias = bias[a]\r\n",
        "            value_average_bias = np.multiply(average_bias[a], (eta/batch_size))\r\n",
        "            bias[a] = np.subtract(value_bias, value_average_bias)\r\n",
        "    print(\"Running feedforward on testing data for epoch {}\".format(i))\r\n",
        "    y_output = np.array([feedforward(testData[m, :])[len(layers_config) - 1] for m in range(len(testData))])\r\n",
        "    class_output = np.argmax(y_output, axis=1)\r\n",
        "    label_class = np.argmax(testLabels, axis=1)\r\n",
        "    number_correct_classification = np.sum(class_output == label_class)\r\n",
        "    accuracy_val = number_correct_classification / len(testData)\r\n",
        "    epoch_accuracy.append(accuracy_val)\r\n",
        "    print(\"Accuracy on testing Set for epoch {} is {}\".format(epoch_size, accuracy_val))\r\n",
        "\r\n",
        "plt.plot(range(1, epoch_size + 1), epoch_accuracy)\r\n",
        "plt.title('Model accuracy after each epoch')\r\n",
        "plt.ylabel('Accuracy')\r\n",
        "plt.xlabel('Epoch')\r\n",
        "plt.axvline(x=1)\r\n",
        "plt.show()\r\n",
        "\r\n",
        "\r\n",
        "output.eval_js('new Audio(\"https://upload.wikimedia.org/wikipedia/commons/0/05/Beep-09.ogg\").play()') # sound notification when finished"
      ],
      "execution_count": null,
      "outputs": [
        {
          "output_type": "stream",
          "text": [
            "Splitted train and test data...\n",
            "Train data  : (1305, 100, 100)\n",
            "Test data   : (327, 100, 100)\n",
            "Train labels: (1305, 3)\n",
            "Test labels : (327, 3)\n",
            "Running Epoch 1\n",
            "Running feedforward on testing data for epoch 1\n",
            "Accuracy on testing Set for epoch 50 is 0.3486238532110092\n",
            "Running Epoch 2\n",
            "Running feedforward on testing data for epoch 2\n",
            "Accuracy on testing Set for epoch 50 is 0.3486238532110092\n",
            "Running Epoch 3\n",
            "Running feedforward on testing data for epoch 3\n",
            "Accuracy on testing Set for epoch 50 is 0.363914373088685\n",
            "Running Epoch 4\n",
            "Running feedforward on testing data for epoch 4\n",
            "Accuracy on testing Set for epoch 50 is 0.3486238532110092\n",
            "Running Epoch 5\n",
            "Running feedforward on testing data for epoch 5\n",
            "Accuracy on testing Set for epoch 50 is 0.3486238532110092\n",
            "Running Epoch 6\n",
            "Running feedforward on testing data for epoch 6\n",
            "Accuracy on testing Set for epoch 50 is 0.3486238532110092\n",
            "Running Epoch 7\n",
            "Running feedforward on testing data for epoch 7\n",
            "Accuracy on testing Set for epoch 50 is 0.3486238532110092\n",
            "Running Epoch 8\n",
            "Running feedforward on testing data for epoch 8\n",
            "Accuracy on testing Set for epoch 50 is 0.363914373088685\n",
            "Running Epoch 9\n",
            "Running feedforward on testing data for epoch 9\n",
            "Accuracy on testing Set for epoch 50 is 0.363914373088685\n",
            "Running Epoch 10\n",
            "Running feedforward on testing data for epoch 10\n",
            "Accuracy on testing Set for epoch 50 is 0.3486238532110092\n",
            "Running Epoch 11\n",
            "Running feedforward on testing data for epoch 11\n",
            "Accuracy on testing Set for epoch 50 is 0.3486238532110092\n",
            "Running Epoch 12\n",
            "Running feedforward on testing data for epoch 12\n",
            "Accuracy on testing Set for epoch 50 is 0.3486238532110092\n",
            "Running Epoch 13\n",
            "Running feedforward on testing data for epoch 13\n",
            "Accuracy on testing Set for epoch 50 is 0.363914373088685\n",
            "Running Epoch 14\n",
            "Running feedforward on testing data for epoch 14\n",
            "Accuracy on testing Set for epoch 50 is 0.363914373088685\n",
            "Running Epoch 15\n",
            "Running feedforward on testing data for epoch 15\n",
            "Accuracy on testing Set for epoch 50 is 0.3486238532110092\n",
            "Running Epoch 16\n",
            "Running feedforward on testing data for epoch 16\n",
            "Accuracy on testing Set for epoch 50 is 0.3486238532110092\n",
            "Running Epoch 17\n",
            "Running feedforward on testing data for epoch 17\n",
            "Accuracy on testing Set for epoch 50 is 0.3486238532110092\n",
            "Running Epoch 18\n",
            "Running feedforward on testing data for epoch 18\n",
            "Accuracy on testing Set for epoch 50 is 0.3486238532110092\n",
            "Running Epoch 19\n",
            "Running feedforward on testing data for epoch 19\n",
            "Accuracy on testing Set for epoch 50 is 0.363914373088685\n",
            "Running Epoch 20\n",
            "Running feedforward on testing data for epoch 20\n",
            "Accuracy on testing Set for epoch 50 is 0.363914373088685\n",
            "Running Epoch 21\n",
            "Running feedforward on testing data for epoch 21\n",
            "Accuracy on testing Set for epoch 50 is 0.3486238532110092\n",
            "Running Epoch 22\n",
            "Running feedforward on testing data for epoch 22\n",
            "Accuracy on testing Set for epoch 50 is 0.3486238532110092\n",
            "Running Epoch 23\n",
            "Running feedforward on testing data for epoch 23\n",
            "Accuracy on testing Set for epoch 50 is 0.3486238532110092\n",
            "Running Epoch 24\n",
            "Running feedforward on testing data for epoch 24\n",
            "Accuracy on testing Set for epoch 50 is 0.3119266055045872\n",
            "Running Epoch 25\n",
            "Running feedforward on testing data for epoch 25\n",
            "Accuracy on testing Set for epoch 50 is 0.363914373088685\n",
            "Running Epoch 26\n",
            "Running feedforward on testing data for epoch 26\n",
            "Accuracy on testing Set for epoch 50 is 0.3486238532110092\n",
            "Running Epoch 27\n",
            "Running feedforward on testing data for epoch 27\n",
            "Accuracy on testing Set for epoch 50 is 0.3486238532110092\n",
            "Running Epoch 28\n",
            "Running feedforward on testing data for epoch 28\n",
            "Accuracy on testing Set for epoch 50 is 0.3486238532110092\n",
            "Running Epoch 29\n",
            "Running feedforward on testing data for epoch 29\n",
            "Accuracy on testing Set for epoch 50 is 0.3119266055045872\n",
            "Running Epoch 30\n",
            "Running feedforward on testing data for epoch 30\n",
            "Accuracy on testing Set for epoch 50 is 0.363914373088685\n",
            "Running Epoch 31\n",
            "Running feedforward on testing data for epoch 31\n",
            "Accuracy on testing Set for epoch 50 is 0.3486238532110092\n",
            "Running Epoch 32\n",
            "Running feedforward on testing data for epoch 32\n",
            "Accuracy on testing Set for epoch 50 is 0.3486238532110092\n",
            "Running Epoch 33\n",
            "Running feedforward on testing data for epoch 33\n",
            "Accuracy on testing Set for epoch 50 is 0.3486238532110092\n",
            "Running Epoch 34\n",
            "Running feedforward on testing data for epoch 34\n",
            "Accuracy on testing Set for epoch 50 is 0.3119266055045872\n",
            "Running Epoch 35\n",
            "Running feedforward on testing data for epoch 35\n",
            "Accuracy on testing Set for epoch 50 is 0.3119266055045872\n",
            "Running Epoch 36\n",
            "Running feedforward on testing data for epoch 36\n",
            "Accuracy on testing Set for epoch 50 is 0.3486238532110092\n",
            "Running Epoch 37\n",
            "Running feedforward on testing data for epoch 37\n",
            "Accuracy on testing Set for epoch 50 is 0.3486238532110092\n",
            "Running Epoch 38\n",
            "Running feedforward on testing data for epoch 38\n",
            "Accuracy on testing Set for epoch 50 is 0.3486238532110092\n",
            "Running Epoch 39\n",
            "Running feedforward on testing data for epoch 39\n",
            "Accuracy on testing Set for epoch 50 is 0.3486238532110092\n",
            "Running Epoch 40\n",
            "Running feedforward on testing data for epoch 40\n",
            "Accuracy on testing Set for epoch 50 is 0.3119266055045872\n",
            "Running Epoch 41\n",
            "Running feedforward on testing data for epoch 41\n",
            "Accuracy on testing Set for epoch 50 is 0.3486238532110092\n",
            "Running Epoch 42\n",
            "Running feedforward on testing data for epoch 42\n",
            "Accuracy on testing Set for epoch 50 is 0.3486238532110092\n",
            "Running Epoch 43\n",
            "Running feedforward on testing data for epoch 43\n",
            "Accuracy on testing Set for epoch 50 is 0.3486238532110092\n",
            "Running Epoch 44\n",
            "Running feedforward on testing data for epoch 44\n",
            "Accuracy on testing Set for epoch 50 is 0.3486238532110092\n",
            "Running Epoch 45\n",
            "Running feedforward on testing data for epoch 45\n",
            "Accuracy on testing Set for epoch 50 is 0.3119266055045872\n",
            "Running Epoch 46\n",
            "Running feedforward on testing data for epoch 46\n",
            "Accuracy on testing Set for epoch 50 is 0.3119266055045872\n",
            "Running Epoch 47\n",
            "Running feedforward on testing data for epoch 47\n",
            "Accuracy on testing Set for epoch 50 is 0.3486238532110092\n",
            "Running Epoch 48\n",
            "Running feedforward on testing data for epoch 48\n",
            "Accuracy on testing Set for epoch 50 is 0.3486238532110092\n",
            "Running Epoch 49\n",
            "Running feedforward on testing data for epoch 49\n",
            "Accuracy on testing Set for epoch 50 is 0.3486238532110092\n",
            "Running Epoch 50\n",
            "Running feedforward on testing data for epoch 50\n",
            "Accuracy on testing Set for epoch 50 is 0.3486238532110092\n"
          ],
          "name": "stdout"
        },
        {
          "output_type": "display_data",
          "data": {
            "image/png": "[encoded data removed]",
            "text/plain": [
              "<Figure size 432x288 with 1 Axes>"
            ]
          },
          "metadata": {
            "tags": [],
            "needs_background": "light"
          }
        },
        {
          "output_type": "error",
          "ename": "NameError",
          "evalue": "ignored",
          "traceback": [
            "\u001b[0;31m---------------------------------------------------------------------------\u001b[0m",
            "\u001b[0;31mNameError\u001b[0m                                 Traceback (most recent call last)",
            "\u001b[0;32m<ipython-input-24-fd246aae000f>\u001b[0m in \u001b[0;36m<module>\u001b[0;34m()\u001b[0m\n\u001b[1;32m     63\u001b[0m \u001b[0;34m\u001b[0m\u001b[0m\n\u001b[1;32m     64\u001b[0m \u001b[0;34m\u001b[0m\u001b[0m\n\u001b[0;32m---> 65\u001b[0;31m \u001b[0moutput\u001b[0m\u001b[0;34m.\u001b[0m\u001b[0meval_js\u001b[0m\u001b[0;34m(\u001b[0m\u001b[0;34m'new Audio(\"https://upload.wikimedia.org/wikipedia/commons/0/05/Beep-09.ogg\").play()'\u001b[0m\u001b[0;34m)\u001b[0m \u001b[0;31m# sound notification when finished\u001b[0m\u001b[0;34m\u001b[0m\u001b[0;34m\u001b[0m\u001b[0m\n\u001b[0m",
            "\u001b[0;31mNameError\u001b[0m: name 'output' is not defined"
          ]
        }
      ]
    },
    {
      "cell_type": "code",
      "metadata": {
        "colab": {
          "base_uri": "https://localhost:8080/"
        },
        "id": "4bajh4iqRtaE",
        "outputId": "981acadb-b4e9-415a-8263-07348c80b288"
      },
      "source": [
        "len(trainData)"
      ],
      "execution_count": null,
      "outputs": [
        {
          "output_type": "execute_result",
          "data": {
            "text/plain": [
              "1305"
            ]
          },
          "metadata": {
            "tags": []
          },
          "execution_count": 16
        }
      ]
    },
    {
      "cell_type": "markdown",
      "metadata": {
        "id": "KHP-ajQ2fYgb"
      },
      "source": [
        "## Aux function"
      ]
    },
    {
      "cell_type": "code",
      "metadata": {
        "id": "QqtzJjjqfS4z"
      },
      "source": [
        "def ReLU(x):\r\n",
        "    return np.maximum(0, x)\r\n",
        "\r\n",
        "def ReLU_derivative(values):\r\n",
        "    result = [1 if x > 0 else 0 for x in values]\r\n",
        "    return result\r\n",
        "\r\n",
        "def tanh_activation(x):\r\n",
        "    return np.tanh(x)\r\n",
        "\r\n",
        "def tanh_derivative(x):\r\n",
        "    return 1 - (np.tanh(x) ** 2)\r\n",
        "\r\n",
        "def Softmax(x):\r\n",
        "    return np.exp(x - np.max(x))/(np.sum(np.exp(x - np.max(x))))\r\n",
        "\r\n",
        "def feedforward(input_image):\r\n",
        "    a = []\r\n",
        "    a.append(input_image.reshape(len(input_image)**2,1))\r\n",
        "    for i in range(1, len(layers_config)-1):\r\n",
        "        a.append(ReLU((weights[i] @ a[i-1]).reshape(len(weights[i]), 1) + bias[i]))\r\n",
        "    y_hat = Softmax((weights[-1] @ a[-1]) + bias[-1]).reshape(len(weights[-1]),)\r\n",
        "    a.append(y_hat)\r\n",
        "    return a\r\n",
        "\r\n",
        "def backprop(a, ground_output_y):\r\n",
        "    delta_error = list(np.empty_like(a))\r\n",
        "    index_count = len(layers_config) - 1\r\n",
        "    delta_error[index_count] = (a[index_count] - ground_output_y).reshape(len(a[index_count]), 1)\r\n",
        "    average_bias[index_count] = average_bias[index_count] + delta_error[index_count] # Output Layer\r\n",
        "    average_weights[index_count] = average_weights[index_count] + (delta_error[index_count] @ a[index_count - 1].T) # Output Layer\r\n",
        "    for i in range(index_count - 1, 0, -1):\r\n",
        "        h_derivative = np.array(ReLU_derivative(a[i])).reshape(1, len(a[i])) * np.eye(len(a[i]))\r\n",
        "        delta_error[i] = h_derivative.T @ weights[i+1].T @ delta_error[i+1]\r\n",
        "        average_bias[i] = average_bias[i] + delta_error[i]\r\n",
        "        average_weights[i] = average_weights[i] + (delta_error[i] @ a[i-1].T)\r\n",
        "\r\n",
        "# He Normalization\r\n",
        "def initialize_weights():\r\n",
        "    if len(layers_config) < 3:\r\n",
        "        print(\"Incorrect network structure. Check the neural network layer configuration\")\r\n",
        "    else:\r\n",
        "        layer_count = len(layers_config)\r\n",
        "        weights.append([])\r\n",
        "        bias.append([])\r\n",
        "        average_weights.append([])\r\n",
        "        average_bias.append([])\r\n",
        "        for i in range(1, layer_count):\r\n",
        "            neurons_previous = layers_config[i-1]\r\n",
        "            neurons_current = layers_config[i]\r\n",
        "            single_layer_weights = np.random.normal(0, np.sqrt(2/neurons_previous), (neurons_current, neurons_previous))\r\n",
        "            single_layer_bias = np.random.normal(0, np.sqrt(2/neurons_previous), (neurons_current, 1))\r\n",
        "            weights.append(single_layer_weights)\r\n",
        "            bias.append(single_layer_bias)\r\n",
        "            average_weights.append(single_layer_weights)\r\n",
        "            average_bias.append(single_layer_bias)"
      ],
      "execution_count": null,
      "outputs": []
    },
    {
      "cell_type": "code",
      "metadata": {
        "id": "mjIz6li4VTx3"
      },
      "source": [
        ""
      ],
      "execution_count": null,
      "outputs": []
    }
  ]
}