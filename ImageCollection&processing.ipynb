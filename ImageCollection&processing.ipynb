{
  "nbformat": 4,
  "nbformat_minor": 0,
  "metadata": {
    "colab": {
      "name": "ImageCollection&processing.ipynb",
      "provenance": [],
      "mount_file_id": "1pdIVdZsmTjafXhulaG13rP36N0X8o4-A",
      "authorship_tag": "ABX9TyPNgp7o96te56UPOvmlgm+1",
      "include_colab_link": true
    },
    "kernelspec": {
      "name": "python3",
      "display_name": "Python 3"
    }
  },
  "cells": [
    {
      "cell_type": "markdown",
      "metadata": {
        "id": "view-in-github",
        "colab_type": "text"
      },
      "source": [
        "<a href=\"https://colab.research.google.com/github/wdwzyyg/ECE532Project/blob/main/ImageCollection%26processing.ipynb\" target=\"_parent\"><img src=\"https://colab.research.google.com/assets/colab-badge.svg\" alt=\"Open In Colab\"/></a>"
      ]
    },
    {
      "cell_type": "markdown",
      "metadata": {
        "id": "lXuNiKyHhlIp"
      },
      "source": [
        "This notebooks contains codes that I used for data collection and preprocessing. "
      ]
    },
    {
      "cell_type": "code",
      "metadata": {
        "colab": {
          "base_uri": "https://localhost:8080/"
        },
        "id": "Em3N1Dj1MpWZ",
        "outputId": "b14335a2-6891-4d7f-d73e-74a46e1e1647"
      },
      "source": [
        "!pip install bing-image-downloader"
      ],
      "execution_count": null,
      "outputs": [
        {
          "output_type": "stream",
          "text": [
            "Collecting bing-image-downloader\n",
            "  Downloading https://files.pythonhosted.org/packages/0d/bf/537a61030b84ae4cd5022d5c7b014fd9bc3ce7c02358919153a6658a61d3/bing_image_downloader-1.0.4-py3-none-any.whl\n",
            "Installing collected packages: bing-image-downloader\n",
            "Successfully installed bing-image-downloader-1.0.4\n"
          ],
          "name": "stdout"
        }
      ]
    },
    {
      "cell_type": "code",
      "metadata": {
        "id": "1oSWycCoMzdP"
      },
      "source": [
        "import os\r\n",
        "import numpy as np\r\n",
        "import matplotlib.pyplot as plt\r\n",
        "\r\n",
        "from bing_image_downloader import downloader\r\n",
        "from PIL import Image"
      ],
      "execution_count": null,
      "outputs": []
    },
    {
      "cell_type": "markdown",
      "metadata": {
        "id": "QPgHwk0iMJ6r"
      },
      "source": [
        "# Image Collection"
      ]
    },
    {
      "cell_type": "code",
      "metadata": {
        "id": "Mib5xrb7MblS"
      },
      "source": [
        "# Download images of the three catagories by searching in Bing Webpage\r\n",
        "\r\n",
        "os.chdir('/content/drive/MyDrive/ECE532/Project/Rawdata/')\r\n",
        "downloader.download('photography of people', limit=100,  \r\n",
        "                    output_dir='People', \r\n",
        "                    adult_filter_off=True, force_replace=False, timeout=60)\r\n",
        "downloader.download('photography of scenery', limit=100, \r\n",
        "                    output_dir='Senery', \r\n",
        "                    adult_filter_off=True, force_replace=False, timeout=60)\r\n",
        "downloader.download('photography of food', limit=100, \r\n",
        "                    output_dir='Food', \r\n",
        "                    adult_filter_off=True, force_replace=False, timeout=60)"
      ],
      "execution_count": null,
      "outputs": []
    },
    {
      "cell_type": "code",
      "metadata": {
        "colab": {
          "base_uri": "https://localhost:8080/"
        },
        "id": "C9-j5XkufaXr",
        "outputId": "951b5bc8-8e8d-4708-9da3-d6af29f1bf3e"
      },
      "source": [
        "# Preprocessing of the images: crop and downsampling to [100,100] gray images\r\n",
        "# E.g.\r\n",
        "\r\n",
        "path = '/content/drive/MyDrive/ECE532/Project/Rawdata/Scenery/photography of scenery/'\r\n",
        "filelist = os.listdir(path)\r\n",
        "i = 362\r\n",
        "for file in filelist:\r\n",
        "  fn,_ = os.path.splitext(file)\r\n",
        "  img = Image.open(path+file).convert('LA')\r\n",
        "  imgcroped = squrecrop(img)\r\n",
        "  imgdown = imgcroped.resize((100,100), Image.BILINEAR)\r\n",
        "  imgdown.save('/content/drive/MyDrive/ECE532/Project/Input/Scenery/'+\"{0:03}\".format(i)+'.tif')\r\n",
        "  i = i+1\r\n",
        "print(i)\r\n"
      ],
      "execution_count": null,
      "outputs": [
        {
          "output_type": "stream",
          "text": [
            "506\n"
          ],
          "name": "stdout"
        }
      ]
    },
    {
      "cell_type": "code",
      "metadata": {
        "id": "iILDz6Nxu5pB"
      },
      "source": [
        "## Get rid some undesired images\r\n",
        "\r\n",
        "for i in range(144,551):\r\n",
        "  try:\r\n",
        "    os.remove('/content/drive/MyDrive/ECE532/Project/Rawdata/People/photography of people/Image_'+\"{0:03}\".format(i)+'.bmp')\r\n",
        "  except:\r\n",
        "      continue"
      ],
      "execution_count": null,
      "outputs": []
    },
    {
      "cell_type": "code",
      "metadata": {
        "colab": {
          "base_uri": "https://localhost:8080/"
        },
        "id": "nWWHWNPyhUL9",
        "outputId": "d55b3b76-1b83-47f3-8295-06911959ceac"
      },
      "source": [
        "# Rename the files after deleting\r\n",
        "\r\n",
        "path = '/content/drive/MyDrive/ECE532/Project/Input/Food/'\r\n",
        "k = 0\r\n",
        "for file in os.listdir(path):\r\n",
        "  os.rename(path+file, path+\"{0:03}\".format(k)+'.tif')\r\n",
        "  k = k+1\r\n",
        "print(k)"
      ],
      "execution_count": null,
      "outputs": [
        {
          "output_type": "stream",
          "text": [
            "530\n"
          ],
          "name": "stdout"
        }
      ]
    },
    {
      "cell_type": "markdown",
      "metadata": {
        "id": "35dXifm0k3go"
      },
      "source": [
        "# Aux Function"
      ]
    },
    {
      "cell_type": "code",
      "metadata": {
        "id": "MDzU1P15f03B"
      },
      "source": [
        "def squrecrop(img):\r\n",
        "    img_width, img_height = img.size\r\n",
        "    width = min(img.size)\r\n",
        "    return img.crop(((img_width - width) // 2, (img_height - width) // 2, (img_width + width) // 2, (img_height + width) // 2))"
      ],
      "execution_count": null,
      "outputs": []
    }
  ]
}