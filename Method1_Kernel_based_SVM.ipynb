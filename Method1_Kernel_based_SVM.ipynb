{
  "nbformat": 4,
  "nbformat_minor": 0,
  "metadata": {
    "colab": {
      "name": "Method1: Kernel_based SVM",
      "provenance": [],
      "mount_file_id": "1TADzkxqdbV07N8yfB-R3i4FL-RU7cnhD",
      "authorship_tag": "ABX9TyPKIM+5HpJbai8QF59dMg87",
      "include_colab_link": true
    },
    "kernelspec": {
      "name": "python3",
      "display_name": "Python 3"
    },
    "accelerator": "GPU"
  },
  "cells": [
    {
      "cell_type": "markdown",
      "metadata": {
        "id": "view-in-github",
        "colab_type": "text"
      },
      "source": [
        "<a href=\"https://colab.research.google.com/github/wdwzyyg/ECE532Project/blob/main/Method1_Kernel_based_SVM.ipynb\" target=\"_parent\"><img src=\"https://colab.research.google.com/assets/colab-badge.svg\" alt=\"Open In Colab\"/></a>"
      ]
    },
    {
      "cell_type": "code",
      "metadata": {
        "colab": {
          "base_uri": "https://localhost:8080/",
          "height": 35
        },
        "id": "DNf1itg20EUL",
        "outputId": "b04f7d91-8555-478c-9f4e-3423f78a86d1"
      },
      "source": [
        "import os\r\n",
        "import sys\r\n",
        "import matplotlib.pyplot as plt\r\n",
        "from PIL import Image\r\n",
        "import tensorflow as tf\r\n",
        "import numpy as np\r\n",
        "import scipy.io as sio\r\n",
        "\r\n",
        "import time\r\n",
        "from google.colab import output\r\n",
        "\r\n",
        "from sklearn.model_selection import cross_val_score\r\n",
        "from sklearn.metrics import classification_report\r\n",
        "from sklearn.metrics import confusion_matrix\r\n",
        "from sklearn.metrics import accuracy_score\r\n",
        "from sklearn import svm\r\n",
        "import pickle\r\n",
        "tf.test.gpu_device_name()"
      ],
      "execution_count": 1,
      "outputs": [
        {
          "output_type": "execute_result",
          "data": {
            "application/vnd.google.colaboratory.intrinsic+json": {
              "type": "string"
            },
            "text/plain": [
              "'/device:GPU:0'"
            ]
          },
          "metadata": {
            "tags": []
          },
          "execution_count": 1
        }
      ]
    },
    {
      "cell_type": "code",
      "metadata": {
        "id": "i22Pp0nK2yVz"
      },
      "source": [
        "feature = np.load('/content/drive/MyDrive/ECE532/Project/Featurization Result/features_Xception.npy')\r\n",
        "flattened_features = feature.reshape(*feature.shape[0:1],-1, *feature.shape[3:4]) # -1 means the unknown new axis\r\n",
        "\r\n",
        "# the SVM function cross_val_score need imput <= 2 dimention, so flat all the features for each sample. \r\n",
        "feature_2D = feature.reshape( *feature.shape[0:1],-1)\r\n",
        "labels = np.asarray(np.load('/content/drive/MyDrive/ECE532/Project/Featurization Result/raw_y_train.npy'))"
      ],
      "execution_count": 2,
      "outputs": []
    },
    {
      "cell_type": "markdown",
      "metadata": {
        "id": "WOSExGKc0b-X"
      },
      "source": [
        "## Linear Kernel"
      ]
    },
    {
      "cell_type": "code",
      "metadata": {
        "colab": {
          "base_uri": "https://localhost:8080/",
          "height": 185
        },
        "id": "Z_memJqN-D-b",
        "outputId": "e2350173-fc66-4e45-c028-156dba900b19"
      },
      "source": [
        "# split the training and testing data\r\n",
        "\r\n",
        "test_size = 0.2\r\n",
        "(trainData, testData, trainLabels, testLabels) = train_test_split(feature_2D,np.array(labels),test_size=test_size)\r\n",
        "print (\"Splitted train and test data...\")\r\n",
        "print (\"Train data  : {}\".format(trainData.shape))\r\n",
        "print (\"Test data   : {}\".format(testData.shape))\r\n",
        "print (\"Train labels: {}\".format(trainLabels.shape))\r\n",
        "print (\"Test labels : {}\".format(testLabels.shape))\r\n",
        "\r\n",
        "start_time = time.time()\r\n",
        "\r\n",
        "print (\"creating model and fit...\")\r\n",
        "model = svm.SVC(kernel='linear', probability=True, C = 1, class_weight='balanced')\r\n",
        "model.fit(trainData, trainLabels)\r\n",
        "\r\n",
        "# dump classifier to file\r\n",
        "\r\n",
        "pickle.dump(model, open('/content/drive/MyDrive/ECE532/Project/Kernel_based SVM result/result.pkl', 'wb'))\r\n",
        "\r\n",
        "# Cross validation\r\n",
        "print (\"Cross validation...\")\r\n",
        "scores = cross_val_score(model, trainData, trainLabels, cv=5)\r\n",
        "print(scores)\r\n",
        "\r\n",
        "print('Total computing time is: ')\r\n",
        "print(int((time.time() - start_time) * 100) / 100.0,'s')\r\n",
        "\r\n",
        "output.eval_js('new Audio(\"https://upload.wikimedia.org/wikipedia/commons/0/05/Beep-09.ogg\").play()') # sound notification when finished"
      ],
      "execution_count": 62,
      "outputs": [
        {
          "output_type": "stream",
          "text": [
            "Splitted train and test data...\n",
            "Train data  : (1305, 18432)\n",
            "Test data   : (327, 18432)\n",
            "Train labels: (1305,)\n",
            "Test labels : (327,)\n",
            "creating model and fit...\n",
            "Cross validation...\n",
            "[0.57088123 0.55555556 0.52873563 0.55172414 0.5210728 ]\n",
            "Total computing time is: \n",
            "1141.69 s\n"
          ],
          "name": "stdout"
        }
      ]
    },
    {
      "cell_type": "code",
      "metadata": {
        "colab": {
          "base_uri": "https://localhost:8080/",
          "height": 580
        },
        "id": "rjgYAZ1yiL7s",
        "outputId": "5d1a925c-da0c-4fea-e609-10bf7225abd7"
      },
      "source": [
        "# Model Evaluation\r\n",
        "\r\n",
        "yhat_svm = model.predict(testData)\r\n",
        "# print the result\r\n",
        "print(\"Classification report for classifier %s:\\n%s\\n\" % (model, classification_report(testLabels, yhat_svm)))\r\n",
        "\r\n",
        "cm = confusion_matrix(testLabels.tolist(), yhat_svm.tolist())\r\n",
        "plt.figure()\r\n",
        "plt.imshow(cm, interpolation='nearest')\r\n",
        "plt.title('Confusion matrix')\r\n",
        "plt.colorbar()\r\n",
        "plt.tight_layout()\r\n",
        "plt.ylabel('True label')\r\n",
        "plt.xlabel('Predicted label')\r\n",
        "plt.xticks([0,1,2])\r\n",
        "plt.yticks([0,1,2])\r\n",
        "print(\"Accuracy={}\".format(accuracy_score(testLabels, yhat_svm)))\r\n",
        "\r\n",
        "\r\n",
        "# load a model\r\n",
        "# loaded_model = pickle.load(open(filename, 'rb'))"
      ],
      "execution_count": 84,
      "outputs": [
        {
          "output_type": "stream",
          "text": [
            "Classification report for classifier SVC(C=1, break_ties=False, cache_size=200, class_weight='balanced', coef0=0.0,\n",
            "    decision_function_shape='ovr', degree=3, gamma='scale', kernel='linear',\n",
            "    max_iter=-1, probability=True, random_state=None, shrinking=True, tol=0.001,\n",
            "    verbose=False):\n",
            "              precision    recall  f1-score   support\n",
            "\n",
            "           0       0.51      0.61      0.56       104\n",
            "           1       0.44      0.42      0.43       114\n",
            "           2       0.60      0.51      0.55       109\n",
            "\n",
            "    accuracy                           0.51       327\n",
            "   macro avg       0.51      0.51      0.51       327\n",
            "weighted avg       0.51      0.51      0.51       327\n",
            "\n",
            "\n",
            "Accuracy=0.5107033639143731\n"
          ],
          "name": "stdout"
        },
        {
          "output_type": "display_data",
          "data": {
            "image/png": "[encoded data removed]",
            "text/plain": [
              "<Figure size 432x288 with 2 Axes>"
            ]
          },
          "metadata": {
            "tags": [],
            "needs_background": "light"
          }
        }
      ]
    },
    {
      "cell_type": "markdown",
      "metadata": {
        "id": "xuxWFkOC0iHS"
      },
      "source": [
        "## RBF Kernel"
      ]
    },
    {
      "cell_type": "code",
      "metadata": {
        "id": "_ULPpmrgPiTE"
      },
      "source": [
        "# Parameter selection\r\n",
        "# rf: https://ogrisel.github.io/scikit-learn.org/sklearn-tutorial/auto_examples/svm/plot_svm_parameters_selection.html\r\n",
        "\r\n",
        "import pylab as pl\r\n",
        "\r\n",
        "from sklearn.preprocessing import StandardScaler\r\n",
        "from sklearn.model_selection import StratifiedKFold\r\n",
        "from sklearn.model_selection import GridSearchCV\r\n",
        "\r\n",
        "start_time = time.time()\r\n",
        "\r\n",
        "X, Y = feature_2D, labels\r\n",
        "\r\n",
        "# It is usually a good idea to scale the data for SVM training.\r\n",
        "# We are cheating a bit in this example in scaling all of the data,\r\n",
        "# instead of fitting the transformation on the trainingset and\r\n",
        "# just applying it on the test set.\r\n",
        "\r\n",
        "scaler = StandardScaler()\r\n",
        "\r\n",
        "X = scaler.fit_transform(X)\r\n",
        "\r\n",
        "# For an initial search, a logarithmic grid with basis\r\n",
        "# 10 is often helpful. Using a basis of 2, a finer\r\n",
        "# tuning can be achieved but at a much higher cost.\r\n",
        "\r\n",
        "C_range = 10. ** np.arange(-3, 6)\r\n",
        "gamma_range = 10. ** np.arange(-4, 4)\r\n",
        "\r\n",
        "param_grid = dict(gamma=gamma_range, C=C_range)\r\n",
        "\r\n",
        "grid = GridSearchCV(svm.SVC(), param_grid=param_grid, cv=StratifiedKFold(n_splits=5))\r\n",
        "\r\n",
        "grid.fit(X, Y)\r\n",
        "\r\n",
        "print(\"The best classifier is: \", grid.best_estimator_)\r\n",
        "\r\n",
        "# plot the scores of the grid\r\n",
        "# grid_scores_ contains parameter settings and scores\r\n",
        "score_dict = grid.grid_scores_\r\n",
        "\r\n",
        "# We extract just the scores\r\n",
        "scores = [x[1] for x in score_dict]\r\n",
        "scores = np.array(scores).reshape(len(C_range), len(gamma_range))\r\n",
        "\r\n",
        "# Make a nice figure\r\n",
        "pl.figure(figsize=(8, 6))\r\n",
        "pl.subplots_adjust(left=0.15, right=0.95, bottom=0.15, top=0.95)\r\n",
        "pl.imshow(scores, interpolation='nearest', cmap=pl.cm.spectral)\r\n",
        "pl.xlabel('gamma')\r\n",
        "pl.ylabel('C')\r\n",
        "pl.colorbar()\r\n",
        "pl.xticks(np.arange(len(gamma_range)), gamma_range, rotation=45)\r\n",
        "pl.yticks(np.arange(len(C_range)), C_range)\r\n",
        "pl.show()\r\n",
        "\r\n",
        "print('Total computing time is: ')\r\n",
        "print(int((time.time() - start_time) * 100) / 100.0,'s')\r\n",
        "\r\n",
        "output.eval_js('new Audio(\"https://upload.wikimedia.org/wikipedia/commons/0/05/Beep-09.ogg\").play()') # sound notification when finished"
      ],
      "execution_count": null,
      "outputs": []
    },
    {
      "cell_type": "code",
      "metadata": {
        "colab": {
          "base_uri": "https://localhost:8080/",
          "height": 102
        },
        "id": "3tXUL6Q713Ae",
        "outputId": "84a852ba-633a-4544-d30a-963d98c934a3"
      },
      "source": [
        "start_time = time.time()\r\n",
        "\r\n",
        "print (\"creating model and fit...\")\r\n",
        "model = svm.SVC(kernel='Gaussian', probability=True, C = 1, class_weight='balanced')\r\n",
        "model.fit(feature_2D, labels)\r\n",
        "\r\n",
        "# dump classifier to file\r\n",
        "\r\n",
        "pickle.dump(model, open('/content/drive/MyDrive/ECE532/Project/Kernel_based SVM result/result.pkl', 'wb'))\r\n",
        "\r\n",
        "# Cross validation\r\n",
        "print (\"Cross validation...\")\r\n",
        "scores = cross_val_score(model, feature_2D, labels, cv=5)\r\n",
        "print(scores)\r\n",
        "\r\n",
        "print('Total computing time is: ')\r\n",
        "print(int((time.time() - start_time) * 100) / 100.0,'s')\r\n",
        "\r\n",
        "output.eval_js('new Audio(\"https://upload.wikimedia.org/wikipedia/commons/0/05/Beep-09.ogg\").play()') # sound notification when finished"
      ],
      "execution_count": null,
      "outputs": [
        {
          "output_type": "stream",
          "text": [
            "creating model and fit...\n",
            "saving model...\n",
            "[0.45259939 0.50764526 0.53067485 0.50306748 0.54907975]\n",
            "Total computing time is: \n",
            "1814.05 s\n"
          ],
          "name": "stdout"
        }
      ]
    },
    {
      "cell_type": "code",
      "metadata": {
        "id": "D-gDPd0A13Af"
      },
      "source": [
        "# Model Evaluation\r\n",
        "\r\n",
        "yhat_svm = model.predict(feature_2D)\r\n",
        "# print the result\r\n",
        "print(\"Classification report for classifier %s:\\n%s\\n\" % (model, classification_report(labels, yhat_svm)))\r\n",
        "\r\n",
        "confusion_matrix = confusion_matrix(labels, yhat_svm)\r\n",
        "plot_confusion_matrix_svm(confusion_matrix)\r\n",
        "print(\"Accuracy={}\".format(accuracy_score(labels, yhat_svm)))\r\n",
        "\r\n",
        "output.eval_js('new Audio(\"https://upload.wikimedia.org/wikipedia/commons/0/05/Beep-09.ogg\").play()') # sound notification when finished\r\n",
        "\r\n",
        "# load a model\r\n",
        "# loaded_model = pickle.load(open(filename, 'rb'))"
      ],
      "execution_count": null,
      "outputs": []
    }
  ]
}